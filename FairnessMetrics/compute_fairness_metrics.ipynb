{
 "cells": [
  {
   "cell_type": "code",
   "execution_count": 2,
   "metadata": {},
   "outputs": [],
   "source": [
    "#import libraries\n",
    "import pandas as pd\n",
    "import numpy as np\n",
    "from sklearn.metrics import accuracy_score"
   ]
  },
  {
   "cell_type": "code",
   "execution_count": 7,
   "metadata": {},
   "outputs": [],
   "source": [
    "#read in dataset that has gender, label, and predictinon columns\n",
    "\n",
    "path = \"/Users/sagar/Desktop/NLU/FinalProject/code/scratch/History/analysis_results_toxic_65523\"\n",
    "df = pd.read_csv(path)\n"
   ]
  },
  {
   "cell_type": "code",
   "execution_count": 13,
   "metadata": {},
   "outputs": [],
   "source": [
    "#helper function to get true/false postive/negative rates\n",
    "def get_metrics(label, pred):\n",
    "    label = list(label)\n",
    "    pred = list(pred)\n",
    "    TP = 0\n",
    "    FP = 0\n",
    "    TN = 0\n",
    "    FN = 0\n",
    "    for i in range(len(pred)): \n",
    "        if label[i]==1 and pred[i]==1:\n",
    "            TP += 1\n",
    "        if pred[i]==1 and label[i]!=pred[i]:\n",
    "            FP += 1\n",
    "        if label[i]==0 and pred[i]==0:\n",
    "            TN += 1\n",
    "        if pred[i]==0 and label[i]!=pred[i]:\n",
    "            FN += 1\n",
    "\n",
    "    return(TP, FP, TN, FN)\n"
   ]
  },
  {
   "cell_type": "code",
   "execution_count": 14,
   "metadata": {},
   "outputs": [],
   "source": [
    "#Function to pring out various fairness metrics. Can add more analysis to this function but these are just some basic formulas.\n",
    "\n",
    "from sklearn.metrics import f1_score\n",
    "def metrics_print(data,label_col, pred_col):\n",
    "\n",
    "    data_male = data[data.Gender == 0]\n",
    "    data_female = data[data.Gender == 1]\n",
    "    TP_M, FP_M, TN_M, FN_M = get_metrics(data_male[label_col], data_male[pred_col] )\n",
    "    TP_F, FP_F, TN_F, FN_F = get_metrics(data_female[label_col], data_female[pred_col] )\n",
    "    F1_M = f1_score(data_male[label_col], data_male[pred_col])\n",
    "    F1_F = f1_score(data_female[label_col], data_female[pred_col])\n",
    "    \n",
    "    print(f\"Overall Accuracy: {accuracy_score(data.Label, data[pred_col])}\")\n",
    "    print(f\"Male Accuracy: {accuracy_score(data_male.Label, data_male[pred_col])}\")\n",
    "    print(f\"Female Accuracy: {accuracy_score(data_female.Label, data_female[pred_col])}\")\n",
    "    print(f\"False Positive Equality Difference {np.abs((FP_M/(FP_M+TN_M)) - (FP_F/(FP_F+TN_F)))}\")\n",
    "    print(f\"False Negative Equality Difference {np.abs((FN_M/(FN_M+TP_M)) - (FN_F/(FN_F+TP_F)))}\")\n",
    "    print(f\"Disparity Score {np.abs(F1_M-F1_F)}\")"
   ]
  },
  {
   "cell_type": "code",
   "execution_count": 15,
   "metadata": {},
   "outputs": [
    {
     "name": "stdout",
     "output_type": "stream",
     "text": [
      "Overall Accuracy: 0.8495130657030803\n",
      "Male Accuracy: 0.8375053395984622\n",
      "Female Accuracy: 0.8623043319985438\n",
      "False Positive Equality Difference 0.059006490997989935\n",
      "False Negative Equality Difference 0.02086363369695432\n",
      "Disparity Score 0.00231561490266341\n"
     ]
    }
   ],
   "source": [
    "metrics_print(df,\"Label\", \"Predictions_toxic\")"
   ]
  },
  {
   "cell_type": "code",
   "execution_count": null,
   "metadata": {},
   "outputs": [],
   "source": []
  }
 ],
 "metadata": {
  "kernelspec": {
   "display_name": "Python 3",
   "language": "python",
   "name": "python3"
  },
  "language_info": {
   "codemirror_mode": {
    "name": "ipython",
    "version": 3
   },
   "file_extension": ".py",
   "mimetype": "text/x-python",
   "name": "python",
   "nbconvert_exporter": "python",
   "pygments_lexer": "ipython3",
   "version": "3.8.3"
  }
 },
 "nbformat": 4,
 "nbformat_minor": 4
}
