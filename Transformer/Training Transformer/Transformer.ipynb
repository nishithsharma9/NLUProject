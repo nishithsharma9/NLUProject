{
  "nbformat": 4,
  "nbformat_minor": 0,
  "metadata": {
    "colab": {
      "name": "Transformer.ipynb",
      "provenance": []
    },
    "kernelspec": {
      "name": "python3",
      "display_name": "Python 3"
    },
    "language_info": {
      "name": "python"
    }
  },
  "cells": [
    {
      "cell_type": "code",
      "execution_count": null,
      "metadata": {
        "id": "UM1GJBq-y6xa"
      },
      "outputs": [],
      "source": [
        "!pip install spacy sklearn\n",
        "!python -m spacy download en_core_web_sm"
      ]
    },
    {
      "cell_type": "code",
      "source": [
        "import spacy\n",
        "from spacy.util import minibatch\n",
        "import pandas as pd\n",
        "import random"
      ],
      "metadata": {
        "id": "z1Rpo4CGzOxZ"
      },
      "execution_count": 2,
      "outputs": []
    },
    {
      "cell_type": "code",
      "source": [
        "!git clone \"https://github.com/nishithsharma9/NLUProject.git\""
      ],
      "metadata": {
        "colab": {
          "base_uri": "https://localhost:8080/"
        },
        "id": "yqSLuPyM5LBV",
        "outputId": "450bbd96-ab77-4670-eff6-2b53b30a1ec0"
      },
      "execution_count": 19,
      "outputs": [
        {
          "output_type": "stream",
          "name": "stdout",
          "text": [
            "Cloning into 'NLUProject'...\n",
            "remote: Enumerating objects: 46, done.\u001b[K\n",
            "remote: Counting objects: 100% (46/46), done.\u001b[K\n",
            "remote: Compressing objects: 100% (38/38), done.\u001b[K\n",
            "remote: Total 46 (delta 5), reused 36 (delta 3), pack-reused 0\u001b[K\n",
            "Unpacking objects: 100% (46/46), done.\n",
            "Checking out files: 100% (28/28), done.\n"
          ]
        }
      ]
    },
    {
      "cell_type": "code",
      "source": [
        "toxicClassifierModelSpacy =  spacy.load(\"/content/NLUProject/Transformer/Models/ToxicTextClassifierModel/model\")"
      ],
      "metadata": {
        "id": "VZ0bFWC8zTZq"
      },
      "execution_count": 20,
      "outputs": []
    },
    {
      "cell_type": "code",
      "source": [
        "toxicSpanModelSpacy = spacy.load(\"/content/NLUProject/Transformer/Models/ToxicTextSpanDetectionModel/model\")"
      ],
      "metadata": {
        "id": "BAsUp69r3H1A"
      },
      "execution_count": 21,
      "outputs": []
    },
    {
      "cell_type": "code",
      "source": [
        "text = \"I hate you as you are a fucking moron\""
      ],
      "metadata": {
        "id": "HwYmrT_u4YuK"
      },
      "execution_count": 22,
      "outputs": []
    },
    {
      "cell_type": "code",
      "source": [
        "doc1 = toxicSpanModelSpacy(text)"
      ],
      "metadata": {
        "id": "MsPC-CtW4VEW"
      },
      "execution_count": 23,
      "outputs": []
    },
    {
      "cell_type": "code",
      "source": [
        "doc1.ents"
      ],
      "metadata": {
        "colab": {
          "base_uri": "https://localhost:8080/"
        },
        "id": "sbGePx9m4ckv",
        "outputId": "aa1388af-84ef-4dd1-a50e-780d1bc5e87b"
      },
      "execution_count": 24,
      "outputs": [
        {
          "output_type": "execute_result",
          "data": {
            "text/plain": [
              "(fucking moron,)"
            ]
          },
          "metadata": {},
          "execution_count": 24
        }
      ]
    },
    {
      "cell_type": "code",
      "source": [
        "doc2 = toxicClassifierModelSpacy(text)"
      ],
      "metadata": {
        "id": "tju-Z_qt4pM1"
      },
      "execution_count": 25,
      "outputs": []
    },
    {
      "cell_type": "code",
      "source": [
        "doc2.cats"
      ],
      "metadata": {
        "colab": {
          "base_uri": "https://localhost:8080/"
        },
        "id": "lr53QJfR4tAe",
        "outputId": "d63504fe-a156-48ec-9b45-7f11f5e82116"
      },
      "execution_count": 26,
      "outputs": [
        {
          "output_type": "execute_result",
          "data": {
            "text/plain": [
              "{'NEGETIVE': 1.0, 'POSITIVE': 3.5572503276348755e-11}"
            ]
          },
          "metadata": {},
          "execution_count": 26
        }
      ]
    },
    {
      "cell_type": "code",
      "source": [
        "textcat = toxicClassifierModelSpacy.get_pipe('textcat')"
      ],
      "metadata": {
        "id": "Em54PBDq6FkE"
      },
      "execution_count": 29,
      "outputs": []
    },
    {
      "cell_type": "code",
      "source": [
        "ner = toxicSpanModelSpacy.get_pipe('ner')"
      ],
      "metadata": {
        "id": "-PudEcMu6IuT"
      },
      "execution_count": 30,
      "outputs": []
    },
    {
      "cell_type": "code",
      "source": [
        "toxicTransformer = spacy.blank('en')\n",
        "toxicTransformer.add_pipe(textcat)\n",
        "toxicTransformer.add_pipe(ner)"
      ],
      "metadata": {
        "id": "RQZrS23x6L2Q"
      },
      "execution_count": 60,
      "outputs": []
    },
    {
      "cell_type": "code",
      "source": [
        "doc = toxicTransformer.make_doc(text)  # Create a Doc from raw text\n",
        "for name, proc in toxicTransformer.pipeline:           # Iterate over components in order\n",
        "    doc = proc(doc)   "
      ],
      "metadata": {
        "id": "O7yOMko06hwQ"
      },
      "execution_count": 61,
      "outputs": []
    },
    {
      "cell_type": "code",
      "source": [
        "doc.cats"
      ],
      "metadata": {
        "colab": {
          "base_uri": "https://localhost:8080/"
        },
        "id": "ygE3ywau-Lnd",
        "outputId": "8d59c0d2-aa6d-430c-9862-af3563e9fb72"
      },
      "execution_count": 63,
      "outputs": [
        {
          "output_type": "execute_result",
          "data": {
            "text/plain": [
              "{'NEGETIVE': 1.0, 'POSITIVE': 3.5572503276348755e-11}"
            ]
          },
          "metadata": {},
          "execution_count": 63
        }
      ]
    }
  ]
}