{
  "nbformat": 4,
  "nbformat_minor": 0,
  "metadata": {
    "colab": {
      "name": "Transformer.ipynb",
      "provenance": []
    },
    "kernelspec": {
      "name": "python3",
      "display_name": "Python 3"
    },
    "language_info": {
      "name": "python"
    }
  },
  "cells": [
    {
      "cell_type": "code",
      "execution_count": 1,
      "metadata": {
        "colab": {
          "base_uri": "https://localhost:8080/"
        },
        "id": "ZDWLbonHgtEU",
        "outputId": "8b42fcfc-4d5d-49ae-b4c5-93379bc56670"
      },
      "outputs": [
        {
          "output_type": "stream",
          "name": "stdout",
          "text": [
            "Cloning into 'NLUProject'...\n",
            "remote: Enumerating objects: 242, done.\u001b[K\n",
            "remote: Counting objects: 100% (7/7), done.\u001b[K\n",
            "remote: Compressing objects: 100% (7/7), done.\u001b[K\n",
            "remote: Total 242 (delta 0), reused 5 (delta 0), pack-reused 235\u001b[K\n",
            "Receiving objects: 100% (242/242), 155.49 MiB | 15.77 MiB/s, done.\n",
            "Resolving deltas: 100% (110/110), done.\n",
            "Checking out files: 100% (69/69), done.\n"
          ]
        }
      ],
      "source": [
        "!git clone \"https://github.com/nishithsharma9/NLUProject.git\""
      ]
    },
    {
      "cell_type": "code",
      "source": [
        "import pickle\n",
        "from NLUProject.Transformer.Models.ToxicityTransformer import ToxicityTransformer"
      ],
      "metadata": {
        "id": "h2WvOw6Phb6Q"
      },
      "execution_count": 2,
      "outputs": []
    },
    {
      "cell_type": "code",
      "source": [
        "with open('/content/NLUProject/Transformer/toxicTransformer.pickle', 'rb') as config_dictionary_file:\n",
        "  transformer = pickle.load(config_dictionary_file)"
      ],
      "metadata": {
        "id": "nvyc5ap_iRsI"
      },
      "execution_count": 5,
      "outputs": []
    },
    {
      "cell_type": "code",
      "source": [
        "transformer.predict(\"I hate you because you are a fucking moron\")"
      ],
      "metadata": {
        "colab": {
          "base_uri": "https://localhost:8080/"
        },
        "id": "RaMi3fIkiXZp",
        "outputId": "7c05e4ac-5340-48c0-aa8a-ec763aaf6e48"
      },
      "execution_count": 7,
      "outputs": [
        {
          "output_type": "execute_result",
          "data": {
            "text/plain": [
              "{'classification': {'NEGETIVE': 1.0, 'POSITIVE': 1.923815273752183e-11},\n",
              " 'output': 'I hate you because you are a [MASK]',\n",
              " 'span': (fucking moron,)}"
            ]
          },
          "metadata": {},
          "execution_count": 7
        }
      ]
    }
  ]
}