{
  "nbformat": 4,
  "nbformat_minor": 0,
  "metadata": {
    "colab": {
      "name": "Analysis_Toxicity_Removal.ipynb",
      "provenance": []
    },
    "kernelspec": {
      "name": "python3",
      "display_name": "Python 3"
    },
    "language_info": {
      "name": "python"
    },
    "accelerator": "GPU"
  },
  "cells": [
    {
      "cell_type": "code",
      "execution_count": 1,
      "metadata": {
        "id": "SvgMcdngi8Ha"
      },
      "outputs": [],
      "source": [
        "import pandas as pd"
      ]
    },
    {
      "cell_type": "code",
      "source": [
        "!git clone https://github.com/nishithsharma9/NLUProject.git"
      ],
      "metadata": {
        "colab": {
          "base_uri": "https://localhost:8080/"
        },
        "id": "xCuEGj-YoAg7",
        "outputId": "30cb9c74-9498-439d-c599-c45c4440dd6c"
      },
      "execution_count": 2,
      "outputs": [
        {
          "output_type": "stream",
          "name": "stdout",
          "text": [
            "Cloning into 'NLUProject'...\n",
            "remote: Enumerating objects: 129, done.\u001b[K\n",
            "remote: Counting objects: 100% (129/129), done.\u001b[K\n",
            "remote: Compressing objects: 100% (97/97), done.\u001b[K\n",
            "remote: Total 129 (delta 45), reused 101 (delta 26), pack-reused 0\u001b[K\n",
            "Receiving objects: 100% (129/129), 128.86 MiB | 13.11 MiB/s, done.\n",
            "Resolving deltas: 100% (45/45), done.\n",
            "Checking out files: 100% (48/48), done.\n"
          ]
        }
      ]
    },
    {
      "cell_type": "code",
      "source": [
        "maskedDF1 = pd.read_csv('/content/NLUProject/Data/BiasPredictionScores/outputPredMasked1.csv')\n",
        "maskedDF2 = pd.read_csv('/content/NLUProject/Data/BiasPredictionScores/outputPredMasked2.csv')\n",
        "nonmaskedDF1 = pd.read_csv('/content/NLUProject/Data/BiasPredictionScores/outputPredNonMasked1.csv')\n",
        "nonmaskedDF2 = pd.read_csv('/content/NLUProject/Data/BiasPredictionScores/outputPredNonMasked2.csv')"
      ],
      "metadata": {
        "id": "gaz2QpO0jL8o"
      },
      "execution_count": 3,
      "outputs": []
    },
    {
      "cell_type": "code",
      "source": [
        "maskedDF = pd.concat([maskedDF1,maskedDF2])\n",
        "nonmaskedDF = pd.concat([nonmaskedDF1,nonmaskedDF2])"
      ],
      "metadata": {
        "id": "D9ngbLoJqRAv"
      },
      "execution_count": 4,
      "outputs": []
    },
    {
      "cell_type": "code",
      "source": [
        "columns = list(maskedDF.columns)\n",
        "columns.remove('comment_text')\n",
        "columns.remove('id')\n",
        "columns"
      ],
      "metadata": {
        "colab": {
          "base_uri": "https://localhost:8080/"
        },
        "id": "YyfWVK0vkLiS",
        "outputId": "6b456d9c-0ce5-4898-8ad0-390237696be0"
      },
      "execution_count": 5,
      "outputs": [
        {
          "output_type": "execute_result",
          "data": {
            "text/plain": [
              "['Unnamed: 0',\n",
              " 'Unnamed: 0.1',\n",
              " 'prediction_insult',\n",
              " 'prediction_toxic',\n",
              " 'prediction_obscene',\n",
              " 'prediction_severe_toxic',\n",
              " 'prediction_threat',\n",
              " 'prediction_identity_hate']"
            ]
          },
          "metadata": {},
          "execution_count": 5
        }
      ]
    },
    {
      "cell_type": "code",
      "source": [
        "for c in columns:\n",
        "  nonmaskedDF[c] = nonmaskedDF[c].apply(lambda x: 1 if x > 0.5 else 0)\n",
        "  \n",
        "  maskedDF[c] = maskedDF[c].apply(lambda x: 1 if x > 0.5 else 0)"
      ],
      "metadata": {
        "id": "PLWvIF-ojf8O"
      },
      "execution_count": 6,
      "outputs": []
    },
    {
      "cell_type": "code",
      "source": [
        "nonmaskedDF.head()"
      ],
      "metadata": {
        "colab": {
          "base_uri": "https://localhost:8080/",
          "height": 513
        },
        "id": "JVDrySRujgBP",
        "outputId": "5149f33c-0f8d-4480-db07-5cb0fd130c0d"
      },
      "execution_count": 7,
      "outputs": [
        {
          "output_type": "execute_result",
          "data": {
            "text/plain": [
              "   Unnamed: 0  Unnamed: 0.1  prediction_toxic  prediction_severe_toxic  \\\n",
              "0           0             0                 1                        1   \n",
              "1           1             1                 0                        0   \n",
              "2           1             1                 0                        0   \n",
              "3           1             1                 0                        0   \n",
              "4           1             1                 0                        0   \n",
              "\n",
              "   prediction_threat  prediction_obscene  prediction_insult  \\\n",
              "0                  0                   1                  1   \n",
              "1                  0                   0                  0   \n",
              "2                  0                   0                  0   \n",
              "3                  0                   0                  0   \n",
              "4                  0                   0                  0   \n",
              "\n",
              "   prediction_identity_hate  \\\n",
              "0                         1   \n",
              "1                         0   \n",
              "2                         0   \n",
              "3                         0   \n",
              "4                         0   \n",
              "\n",
              "                                        comment_text                id  \n",
              "0  Yo bitch Ja Rule is more succesful then you'll...  00001cee341fdb12  \n",
              "1  == From RfC == \\n\\n The title is fine as it is...  0000247867823ef7  \n",
              "2  \" \\n\\n == Sources == \\n\\n * Zawe Ashton on Lap...  00013b17ad220c46  \n",
              "3  :If you have a look back at the source, the in...  00017563c3f7919a  \n",
              "4          I don't anonymously edit articles at all.  00017695ad8997eb  "
            ],
            "text/html": [
              "\n",
              "  <div id=\"df-0a5b07e8-e363-47f6-aa46-2b3ea2b1819e\">\n",
              "    <div class=\"colab-df-container\">\n",
              "      <div>\n",
              "<style scoped>\n",
              "    .dataframe tbody tr th:only-of-type {\n",
              "        vertical-align: middle;\n",
              "    }\n",
              "\n",
              "    .dataframe tbody tr th {\n",
              "        vertical-align: top;\n",
              "    }\n",
              "\n",
              "    .dataframe thead th {\n",
              "        text-align: right;\n",
              "    }\n",
              "</style>\n",
              "<table border=\"1\" class=\"dataframe\">\n",
              "  <thead>\n",
              "    <tr style=\"text-align: right;\">\n",
              "      <th></th>\n",
              "      <th>Unnamed: 0</th>\n",
              "      <th>Unnamed: 0.1</th>\n",
              "      <th>prediction_toxic</th>\n",
              "      <th>prediction_severe_toxic</th>\n",
              "      <th>prediction_threat</th>\n",
              "      <th>prediction_obscene</th>\n",
              "      <th>prediction_insult</th>\n",
              "      <th>prediction_identity_hate</th>\n",
              "      <th>comment_text</th>\n",
              "      <th>id</th>\n",
              "    </tr>\n",
              "  </thead>\n",
              "  <tbody>\n",
              "    <tr>\n",
              "      <th>0</th>\n",
              "      <td>0</td>\n",
              "      <td>0</td>\n",
              "      <td>1</td>\n",
              "      <td>1</td>\n",
              "      <td>0</td>\n",
              "      <td>1</td>\n",
              "      <td>1</td>\n",
              "      <td>1</td>\n",
              "      <td>Yo bitch Ja Rule is more succesful then you'll...</td>\n",
              "      <td>00001cee341fdb12</td>\n",
              "    </tr>\n",
              "    <tr>\n",
              "      <th>1</th>\n",
              "      <td>1</td>\n",
              "      <td>1</td>\n",
              "      <td>0</td>\n",
              "      <td>0</td>\n",
              "      <td>0</td>\n",
              "      <td>0</td>\n",
              "      <td>0</td>\n",
              "      <td>0</td>\n",
              "      <td>== From RfC == \\n\\n The title is fine as it is...</td>\n",
              "      <td>0000247867823ef7</td>\n",
              "    </tr>\n",
              "    <tr>\n",
              "      <th>2</th>\n",
              "      <td>1</td>\n",
              "      <td>1</td>\n",
              "      <td>0</td>\n",
              "      <td>0</td>\n",
              "      <td>0</td>\n",
              "      <td>0</td>\n",
              "      <td>0</td>\n",
              "      <td>0</td>\n",
              "      <td>\" \\n\\n == Sources == \\n\\n * Zawe Ashton on Lap...</td>\n",
              "      <td>00013b17ad220c46</td>\n",
              "    </tr>\n",
              "    <tr>\n",
              "      <th>3</th>\n",
              "      <td>1</td>\n",
              "      <td>1</td>\n",
              "      <td>0</td>\n",
              "      <td>0</td>\n",
              "      <td>0</td>\n",
              "      <td>0</td>\n",
              "      <td>0</td>\n",
              "      <td>0</td>\n",
              "      <td>:If you have a look back at the source, the in...</td>\n",
              "      <td>00017563c3f7919a</td>\n",
              "    </tr>\n",
              "    <tr>\n",
              "      <th>4</th>\n",
              "      <td>1</td>\n",
              "      <td>1</td>\n",
              "      <td>0</td>\n",
              "      <td>0</td>\n",
              "      <td>0</td>\n",
              "      <td>0</td>\n",
              "      <td>0</td>\n",
              "      <td>0</td>\n",
              "      <td>I don't anonymously edit articles at all.</td>\n",
              "      <td>00017695ad8997eb</td>\n",
              "    </tr>\n",
              "  </tbody>\n",
              "</table>\n",
              "</div>\n",
              "      <button class=\"colab-df-convert\" onclick=\"convertToInteractive('df-0a5b07e8-e363-47f6-aa46-2b3ea2b1819e')\"\n",
              "              title=\"Convert this dataframe to an interactive table.\"\n",
              "              style=\"display:none;\">\n",
              "        \n",
              "  <svg xmlns=\"http://www.w3.org/2000/svg\" height=\"24px\"viewBox=\"0 0 24 24\"\n",
              "       width=\"24px\">\n",
              "    <path d=\"M0 0h24v24H0V0z\" fill=\"none\"/>\n",
              "    <path d=\"M18.56 5.44l.94 2.06.94-2.06 2.06-.94-2.06-.94-.94-2.06-.94 2.06-2.06.94zm-11 1L8.5 8.5l.94-2.06 2.06-.94-2.06-.94L8.5 2.5l-.94 2.06-2.06.94zm10 10l.94 2.06.94-2.06 2.06-.94-2.06-.94-.94-2.06-.94 2.06-2.06.94z\"/><path d=\"M17.41 7.96l-1.37-1.37c-.4-.4-.92-.59-1.43-.59-.52 0-1.04.2-1.43.59L10.3 9.45l-7.72 7.72c-.78.78-.78 2.05 0 2.83L4 21.41c.39.39.9.59 1.41.59.51 0 1.02-.2 1.41-.59l7.78-7.78 2.81-2.81c.8-.78.8-2.07 0-2.86zM5.41 20L4 18.59l7.72-7.72 1.47 1.35L5.41 20z\"/>\n",
              "  </svg>\n",
              "      </button>\n",
              "      \n",
              "  <style>\n",
              "    .colab-df-container {\n",
              "      display:flex;\n",
              "      flex-wrap:wrap;\n",
              "      gap: 12px;\n",
              "    }\n",
              "\n",
              "    .colab-df-convert {\n",
              "      background-color: #E8F0FE;\n",
              "      border: none;\n",
              "      border-radius: 50%;\n",
              "      cursor: pointer;\n",
              "      display: none;\n",
              "      fill: #1967D2;\n",
              "      height: 32px;\n",
              "      padding: 0 0 0 0;\n",
              "      width: 32px;\n",
              "    }\n",
              "\n",
              "    .colab-df-convert:hover {\n",
              "      background-color: #E2EBFA;\n",
              "      box-shadow: 0px 1px 2px rgba(60, 64, 67, 0.3), 0px 1px 3px 1px rgba(60, 64, 67, 0.15);\n",
              "      fill: #174EA6;\n",
              "    }\n",
              "\n",
              "    [theme=dark] .colab-df-convert {\n",
              "      background-color: #3B4455;\n",
              "      fill: #D2E3FC;\n",
              "    }\n",
              "\n",
              "    [theme=dark] .colab-df-convert:hover {\n",
              "      background-color: #434B5C;\n",
              "      box-shadow: 0px 1px 3px 1px rgba(0, 0, 0, 0.15);\n",
              "      filter: drop-shadow(0px 1px 2px rgba(0, 0, 0, 0.3));\n",
              "      fill: #FFFFFF;\n",
              "    }\n",
              "  </style>\n",
              "\n",
              "      <script>\n",
              "        const buttonEl =\n",
              "          document.querySelector('#df-0a5b07e8-e363-47f6-aa46-2b3ea2b1819e button.colab-df-convert');\n",
              "        buttonEl.style.display =\n",
              "          google.colab.kernel.accessAllowed ? 'block' : 'none';\n",
              "\n",
              "        async function convertToInteractive(key) {\n",
              "          const element = document.querySelector('#df-0a5b07e8-e363-47f6-aa46-2b3ea2b1819e');\n",
              "          const dataTable =\n",
              "            await google.colab.kernel.invokeFunction('convertToInteractive',\n",
              "                                                     [key], {});\n",
              "          if (!dataTable) return;\n",
              "\n",
              "          const docLinkHtml = 'Like what you see? Visit the ' +\n",
              "            '<a target=\"_blank\" href=https://colab.research.google.com/notebooks/data_table.ipynb>data table notebook</a>'\n",
              "            + ' to learn more about interactive tables.';\n",
              "          element.innerHTML = '';\n",
              "          dataTable['output_type'] = 'display_data';\n",
              "          await google.colab.output.renderOutput(dataTable, element);\n",
              "          const docLink = document.createElement('div');\n",
              "          docLink.innerHTML = docLinkHtml;\n",
              "          element.appendChild(docLink);\n",
              "        }\n",
              "      </script>\n",
              "    </div>\n",
              "  </div>\n",
              "  "
            ]
          },
          "metadata": {},
          "execution_count": 7
        }
      ]
    },
    {
      "cell_type": "code",
      "source": [
        "maskedDF.head()"
      ],
      "metadata": {
        "colab": {
          "base_uri": "https://localhost:8080/",
          "height": 513
        },
        "id": "TPGuJvEFxq9r",
        "outputId": "568468cf-7e4b-4c2c-d4b6-dd89e7176b9b"
      },
      "execution_count": 8,
      "outputs": [
        {
          "output_type": "execute_result",
          "data": {
            "text/plain": [
              "   Unnamed: 0  Unnamed: 0.1  prediction_insult  prediction_toxic  \\\n",
              "0           0             1                  0                 0   \n",
              "1           1             1                  0                 0   \n",
              "2           1             1                  0                 0   \n",
              "3           1             1                  0                 0   \n",
              "4           1             1                  0                 0   \n",
              "\n",
              "   prediction_obscene  prediction_severe_toxic  prediction_threat  \\\n",
              "0                   0                        0                  0   \n",
              "1                   0                        0                  0   \n",
              "2                   0                        0                  0   \n",
              "3                   0                        0                  0   \n",
              "4                   0                        0                  0   \n",
              "\n",
              "                                        comment_text  \\\n",
              "0  == From RfC == \\n\\n The title is fine as it is...   \n",
              "1  \" \\n\\n == Sources == \\n\\n * Zawe Ashton on Lap...   \n",
              "2  :If you have a look back at the source, the in...   \n",
              "3          I don't anonymously edit articles at all.   \n",
              "4  Thank you for understanding. I think very high...   \n",
              "\n",
              "   prediction_identity_hate                id  \n",
              "0                         0  0000247867823ef7  \n",
              "1                         0  00013b17ad220c46  \n",
              "2                         0  00017563c3f7919a  \n",
              "3                         0  00017695ad8997eb  \n",
              "4                         0  0001ea8717f6de06  "
            ],
            "text/html": [
              "\n",
              "  <div id=\"df-312097e3-2a58-4c49-a324-cbb2b1aaf6a7\">\n",
              "    <div class=\"colab-df-container\">\n",
              "      <div>\n",
              "<style scoped>\n",
              "    .dataframe tbody tr th:only-of-type {\n",
              "        vertical-align: middle;\n",
              "    }\n",
              "\n",
              "    .dataframe tbody tr th {\n",
              "        vertical-align: top;\n",
              "    }\n",
              "\n",
              "    .dataframe thead th {\n",
              "        text-align: right;\n",
              "    }\n",
              "</style>\n",
              "<table border=\"1\" class=\"dataframe\">\n",
              "  <thead>\n",
              "    <tr style=\"text-align: right;\">\n",
              "      <th></th>\n",
              "      <th>Unnamed: 0</th>\n",
              "      <th>Unnamed: 0.1</th>\n",
              "      <th>prediction_insult</th>\n",
              "      <th>prediction_toxic</th>\n",
              "      <th>prediction_obscene</th>\n",
              "      <th>prediction_severe_toxic</th>\n",
              "      <th>prediction_threat</th>\n",
              "      <th>comment_text</th>\n",
              "      <th>prediction_identity_hate</th>\n",
              "      <th>id</th>\n",
              "    </tr>\n",
              "  </thead>\n",
              "  <tbody>\n",
              "    <tr>\n",
              "      <th>0</th>\n",
              "      <td>0</td>\n",
              "      <td>1</td>\n",
              "      <td>0</td>\n",
              "      <td>0</td>\n",
              "      <td>0</td>\n",
              "      <td>0</td>\n",
              "      <td>0</td>\n",
              "      <td>== From RfC == \\n\\n The title is fine as it is...</td>\n",
              "      <td>0</td>\n",
              "      <td>0000247867823ef7</td>\n",
              "    </tr>\n",
              "    <tr>\n",
              "      <th>1</th>\n",
              "      <td>1</td>\n",
              "      <td>1</td>\n",
              "      <td>0</td>\n",
              "      <td>0</td>\n",
              "      <td>0</td>\n",
              "      <td>0</td>\n",
              "      <td>0</td>\n",
              "      <td>\" \\n\\n == Sources == \\n\\n * Zawe Ashton on Lap...</td>\n",
              "      <td>0</td>\n",
              "      <td>00013b17ad220c46</td>\n",
              "    </tr>\n",
              "    <tr>\n",
              "      <th>2</th>\n",
              "      <td>1</td>\n",
              "      <td>1</td>\n",
              "      <td>0</td>\n",
              "      <td>0</td>\n",
              "      <td>0</td>\n",
              "      <td>0</td>\n",
              "      <td>0</td>\n",
              "      <td>:If you have a look back at the source, the in...</td>\n",
              "      <td>0</td>\n",
              "      <td>00017563c3f7919a</td>\n",
              "    </tr>\n",
              "    <tr>\n",
              "      <th>3</th>\n",
              "      <td>1</td>\n",
              "      <td>1</td>\n",
              "      <td>0</td>\n",
              "      <td>0</td>\n",
              "      <td>0</td>\n",
              "      <td>0</td>\n",
              "      <td>0</td>\n",
              "      <td>I don't anonymously edit articles at all.</td>\n",
              "      <td>0</td>\n",
              "      <td>00017695ad8997eb</td>\n",
              "    </tr>\n",
              "    <tr>\n",
              "      <th>4</th>\n",
              "      <td>1</td>\n",
              "      <td>1</td>\n",
              "      <td>0</td>\n",
              "      <td>0</td>\n",
              "      <td>0</td>\n",
              "      <td>0</td>\n",
              "      <td>0</td>\n",
              "      <td>Thank you for understanding. I think very high...</td>\n",
              "      <td>0</td>\n",
              "      <td>0001ea8717f6de06</td>\n",
              "    </tr>\n",
              "  </tbody>\n",
              "</table>\n",
              "</div>\n",
              "      <button class=\"colab-df-convert\" onclick=\"convertToInteractive('df-312097e3-2a58-4c49-a324-cbb2b1aaf6a7')\"\n",
              "              title=\"Convert this dataframe to an interactive table.\"\n",
              "              style=\"display:none;\">\n",
              "        \n",
              "  <svg xmlns=\"http://www.w3.org/2000/svg\" height=\"24px\"viewBox=\"0 0 24 24\"\n",
              "       width=\"24px\">\n",
              "    <path d=\"M0 0h24v24H0V0z\" fill=\"none\"/>\n",
              "    <path d=\"M18.56 5.44l.94 2.06.94-2.06 2.06-.94-2.06-.94-.94-2.06-.94 2.06-2.06.94zm-11 1L8.5 8.5l.94-2.06 2.06-.94-2.06-.94L8.5 2.5l-.94 2.06-2.06.94zm10 10l.94 2.06.94-2.06 2.06-.94-2.06-.94-.94-2.06-.94 2.06-2.06.94z\"/><path d=\"M17.41 7.96l-1.37-1.37c-.4-.4-.92-.59-1.43-.59-.52 0-1.04.2-1.43.59L10.3 9.45l-7.72 7.72c-.78.78-.78 2.05 0 2.83L4 21.41c.39.39.9.59 1.41.59.51 0 1.02-.2 1.41-.59l7.78-7.78 2.81-2.81c.8-.78.8-2.07 0-2.86zM5.41 20L4 18.59l7.72-7.72 1.47 1.35L5.41 20z\"/>\n",
              "  </svg>\n",
              "      </button>\n",
              "      \n",
              "  <style>\n",
              "    .colab-df-container {\n",
              "      display:flex;\n",
              "      flex-wrap:wrap;\n",
              "      gap: 12px;\n",
              "    }\n",
              "\n",
              "    .colab-df-convert {\n",
              "      background-color: #E8F0FE;\n",
              "      border: none;\n",
              "      border-radius: 50%;\n",
              "      cursor: pointer;\n",
              "      display: none;\n",
              "      fill: #1967D2;\n",
              "      height: 32px;\n",
              "      padding: 0 0 0 0;\n",
              "      width: 32px;\n",
              "    }\n",
              "\n",
              "    .colab-df-convert:hover {\n",
              "      background-color: #E2EBFA;\n",
              "      box-shadow: 0px 1px 2px rgba(60, 64, 67, 0.3), 0px 1px 3px 1px rgba(60, 64, 67, 0.15);\n",
              "      fill: #174EA6;\n",
              "    }\n",
              "\n",
              "    [theme=dark] .colab-df-convert {\n",
              "      background-color: #3B4455;\n",
              "      fill: #D2E3FC;\n",
              "    }\n",
              "\n",
              "    [theme=dark] .colab-df-convert:hover {\n",
              "      background-color: #434B5C;\n",
              "      box-shadow: 0px 1px 3px 1px rgba(0, 0, 0, 0.15);\n",
              "      filter: drop-shadow(0px 1px 2px rgba(0, 0, 0, 0.3));\n",
              "      fill: #FFFFFF;\n",
              "    }\n",
              "  </style>\n",
              "\n",
              "      <script>\n",
              "        const buttonEl =\n",
              "          document.querySelector('#df-312097e3-2a58-4c49-a324-cbb2b1aaf6a7 button.colab-df-convert');\n",
              "        buttonEl.style.display =\n",
              "          google.colab.kernel.accessAllowed ? 'block' : 'none';\n",
              "\n",
              "        async function convertToInteractive(key) {\n",
              "          const element = document.querySelector('#df-312097e3-2a58-4c49-a324-cbb2b1aaf6a7');\n",
              "          const dataTable =\n",
              "            await google.colab.kernel.invokeFunction('convertToInteractive',\n",
              "                                                     [key], {});\n",
              "          if (!dataTable) return;\n",
              "\n",
              "          const docLinkHtml = 'Like what you see? Visit the ' +\n",
              "            '<a target=\"_blank\" href=https://colab.research.google.com/notebooks/data_table.ipynb>data table notebook</a>'\n",
              "            + ' to learn more about interactive tables.';\n",
              "          element.innerHTML = '';\n",
              "          dataTable['output_type'] = 'display_data';\n",
              "          await google.colab.output.renderOutput(dataTable, element);\n",
              "          const docLink = document.createElement('div');\n",
              "          docLink.innerHTML = docLinkHtml;\n",
              "          element.appendChild(docLink);\n",
              "        }\n",
              "      </script>\n",
              "    </div>\n",
              "  </div>\n",
              "  "
            ]
          },
          "metadata": {},
          "execution_count": 8
        }
      ]
    },
    {
      "cell_type": "code",
      "source": [
        "maskedDF.columns"
      ],
      "metadata": {
        "colab": {
          "base_uri": "https://localhost:8080/"
        },
        "id": "u6thpHzp2dWD",
        "outputId": "1dd79dfd-ab9b-46b1-ac07-b7830232b142"
      },
      "execution_count": 9,
      "outputs": [
        {
          "output_type": "execute_result",
          "data": {
            "text/plain": [
              "Index(['Unnamed: 0', 'Unnamed: 0.1', 'prediction_insult', 'prediction_toxic',\n",
              "       'prediction_obscene', 'prediction_severe_toxic', 'prediction_threat',\n",
              "       'comment_text', 'prediction_identity_hate', 'id'],\n",
              "      dtype='object')"
            ]
          },
          "metadata": {},
          "execution_count": 9
        }
      ]
    },
    {
      "cell_type": "code",
      "source": [
        "nonmaskedDF.columns"
      ],
      "metadata": {
        "colab": {
          "base_uri": "https://localhost:8080/"
        },
        "id": "YVqB4yjz2lGk",
        "outputId": "f9c9c821-1702-4257-8208-495031157c6b"
      },
      "execution_count": 10,
      "outputs": [
        {
          "output_type": "execute_result",
          "data": {
            "text/plain": [
              "Index(['Unnamed: 0', 'Unnamed: 0.1', 'prediction_toxic',\n",
              "       'prediction_severe_toxic', 'prediction_threat', 'prediction_obscene',\n",
              "       'prediction_insult', 'prediction_identity_hate', 'comment_text', 'id'],\n",
              "      dtype='object')"
            ]
          },
          "metadata": {},
          "execution_count": 10
        }
      ]
    },
    {
      "cell_type": "code",
      "source": [
        "joinedDF = pd.merge(maskedDF, nonmaskedDF, how='inner', on = 'id')"
      ],
      "metadata": {
        "id": "QQKPhm9a2nqr"
      },
      "execution_count": 11,
      "outputs": []
    },
    {
      "cell_type": "code",
      "source": [
        "failedToxic = joinedDF[joinedDF['prediction_toxic_x']==joinedDF['prediction_toxic_y']][joinedDF['prediction_toxic_y']==1]\n",
        "failedToxic[['id','comment_text_x']].count()\n",
        "failedToxic.head()"
      ],
      "metadata": {
        "id": "Nu6a_oqi2wbp",
        "colab": {
          "base_uri": "https://localhost:8080/",
          "height": 583
        },
        "outputId": "7aa8b1b8-a823-444d-ec51-8a8e6be476b4"
      },
      "execution_count": 12,
      "outputs": [
        {
          "output_type": "stream",
          "name": "stderr",
          "text": [
            "/usr/local/lib/python3.7/dist-packages/ipykernel_launcher.py:1: UserWarning: Boolean Series key will be reindexed to match DataFrame index.\n",
            "  \"\"\"Entry point for launching an IPython kernel.\n"
          ]
        },
        {
          "output_type": "execute_result",
          "data": {
            "text/plain": [
              "        Unnamed: 0_x  Unnamed: 0.1_x  prediction_insult_x  prediction_toxic_x  \\\n",
              "117070             1               1                    0                   1   \n",
              "117072             1               1                    1                   1   \n",
              "117077             1               1                    0                   1   \n",
              "117100             1               1                    1                   1   \n",
              "117106             1               1                    1                   1   \n",
              "\n",
              "        prediction_obscene_x  prediction_severe_toxic_x  prediction_threat_x  \\\n",
              "117070                     1                          0                    0   \n",
              "117072                     1                          0                    0   \n",
              "117077                     0                          0                    0   \n",
              "117100                     1                          0                    0   \n",
              "117106                     1                          0                    0   \n",
              "\n",
              "                                           comment_text_x  \\\n",
              "117070  \" \\n\\n == Suprising == \\n\\n I'm a little bemus...   \n",
              "117072  [MASK] MUHAMMAD, AND [MASK] MUSLIMS! \\n DIRTY ...   \n",
              "117077  Oh my gosh, you're such an [MASK]! I. AM. NOT....   \n",
              "117100  :MONGO like! No reason to pussy-foot around! N...   \n",
              "117106  SOMEBODY ANSWER ME ALREADY, ARE YOU ALL [MASK]...   \n",
              "\n",
              "        prediction_identity_hate_x                id  Unnamed: 0_y  \\\n",
              "117070                           0  cff54f555c0446ee             1   \n",
              "117072                           1  cff6013cd706abf2             1   \n",
              "117077                           0  cff8af7a3467855b             1   \n",
              "117100                           0  d005910e0e57b534             1   \n",
              "117106                           0  d008cb06f27543f7             1   \n",
              "\n",
              "        Unnamed: 0.1_y  prediction_toxic_y  prediction_severe_toxic_y  \\\n",
              "117070               1                   1                          0   \n",
              "117072               1                   1                          1   \n",
              "117077               1                   1                          0   \n",
              "117100               1                   1                          0   \n",
              "117106               1                   1                          1   \n",
              "\n",
              "        prediction_threat_y  prediction_obscene_y  prediction_insult_y  \\\n",
              "117070                    0                     1                    0   \n",
              "117072                    0                     1                    1   \n",
              "117077                    0                     1                    1   \n",
              "117100                    0                     1                    1   \n",
              "117106                    0                     1                    1   \n",
              "\n",
              "        prediction_identity_hate_y  \\\n",
              "117070                           0   \n",
              "117072                           1   \n",
              "117077                           0   \n",
              "117100                           0   \n",
              "117106                           1   \n",
              "\n",
              "                                           comment_text_y  \n",
              "117070  \" \\n\\n == Suprising == \\n\\n I'm a little bemus...  \n",
              "117072  FUCK MUHAMMAD, AND FUCK MUSLIMS! \\n DIRTY LITT...  \n",
              "117077  Oh my gosh, you're such an idiot! I. AM. NOT. ...  \n",
              "117100  :MONGO like! No reason to pussy-foot around! N...  \n",
              "117106  SOMEBODY ANSWER ME ALREADY, ARE YOU ALL FUCKIN...  "
            ],
            "text/html": [
              "\n",
              "  <div id=\"df-0537497d-dbc6-44ae-8577-8b88ed251a8c\">\n",
              "    <div class=\"colab-df-container\">\n",
              "      <div>\n",
              "<style scoped>\n",
              "    .dataframe tbody tr th:only-of-type {\n",
              "        vertical-align: middle;\n",
              "    }\n",
              "\n",
              "    .dataframe tbody tr th {\n",
              "        vertical-align: top;\n",
              "    }\n",
              "\n",
              "    .dataframe thead th {\n",
              "        text-align: right;\n",
              "    }\n",
              "</style>\n",
              "<table border=\"1\" class=\"dataframe\">\n",
              "  <thead>\n",
              "    <tr style=\"text-align: right;\">\n",
              "      <th></th>\n",
              "      <th>Unnamed: 0_x</th>\n",
              "      <th>Unnamed: 0.1_x</th>\n",
              "      <th>prediction_insult_x</th>\n",
              "      <th>prediction_toxic_x</th>\n",
              "      <th>prediction_obscene_x</th>\n",
              "      <th>prediction_severe_toxic_x</th>\n",
              "      <th>prediction_threat_x</th>\n",
              "      <th>comment_text_x</th>\n",
              "      <th>prediction_identity_hate_x</th>\n",
              "      <th>id</th>\n",
              "      <th>Unnamed: 0_y</th>\n",
              "      <th>Unnamed: 0.1_y</th>\n",
              "      <th>prediction_toxic_y</th>\n",
              "      <th>prediction_severe_toxic_y</th>\n",
              "      <th>prediction_threat_y</th>\n",
              "      <th>prediction_obscene_y</th>\n",
              "      <th>prediction_insult_y</th>\n",
              "      <th>prediction_identity_hate_y</th>\n",
              "      <th>comment_text_y</th>\n",
              "    </tr>\n",
              "  </thead>\n",
              "  <tbody>\n",
              "    <tr>\n",
              "      <th>117070</th>\n",
              "      <td>1</td>\n",
              "      <td>1</td>\n",
              "      <td>0</td>\n",
              "      <td>1</td>\n",
              "      <td>1</td>\n",
              "      <td>0</td>\n",
              "      <td>0</td>\n",
              "      <td>\" \\n\\n == Suprising == \\n\\n I'm a little bemus...</td>\n",
              "      <td>0</td>\n",
              "      <td>cff54f555c0446ee</td>\n",
              "      <td>1</td>\n",
              "      <td>1</td>\n",
              "      <td>1</td>\n",
              "      <td>0</td>\n",
              "      <td>0</td>\n",
              "      <td>1</td>\n",
              "      <td>0</td>\n",
              "      <td>0</td>\n",
              "      <td>\" \\n\\n == Suprising == \\n\\n I'm a little bemus...</td>\n",
              "    </tr>\n",
              "    <tr>\n",
              "      <th>117072</th>\n",
              "      <td>1</td>\n",
              "      <td>1</td>\n",
              "      <td>1</td>\n",
              "      <td>1</td>\n",
              "      <td>1</td>\n",
              "      <td>0</td>\n",
              "      <td>0</td>\n",
              "      <td>[MASK] MUHAMMAD, AND [MASK] MUSLIMS! \\n DIRTY ...</td>\n",
              "      <td>1</td>\n",
              "      <td>cff6013cd706abf2</td>\n",
              "      <td>1</td>\n",
              "      <td>1</td>\n",
              "      <td>1</td>\n",
              "      <td>1</td>\n",
              "      <td>0</td>\n",
              "      <td>1</td>\n",
              "      <td>1</td>\n",
              "      <td>1</td>\n",
              "      <td>FUCK MUHAMMAD, AND FUCK MUSLIMS! \\n DIRTY LITT...</td>\n",
              "    </tr>\n",
              "    <tr>\n",
              "      <th>117077</th>\n",
              "      <td>1</td>\n",
              "      <td>1</td>\n",
              "      <td>0</td>\n",
              "      <td>1</td>\n",
              "      <td>0</td>\n",
              "      <td>0</td>\n",
              "      <td>0</td>\n",
              "      <td>Oh my gosh, you're such an [MASK]! I. AM. NOT....</td>\n",
              "      <td>0</td>\n",
              "      <td>cff8af7a3467855b</td>\n",
              "      <td>1</td>\n",
              "      <td>1</td>\n",
              "      <td>1</td>\n",
              "      <td>0</td>\n",
              "      <td>0</td>\n",
              "      <td>1</td>\n",
              "      <td>1</td>\n",
              "      <td>0</td>\n",
              "      <td>Oh my gosh, you're such an idiot! I. AM. NOT. ...</td>\n",
              "    </tr>\n",
              "    <tr>\n",
              "      <th>117100</th>\n",
              "      <td>1</td>\n",
              "      <td>1</td>\n",
              "      <td>1</td>\n",
              "      <td>1</td>\n",
              "      <td>1</td>\n",
              "      <td>0</td>\n",
              "      <td>0</td>\n",
              "      <td>:MONGO like! No reason to pussy-foot around! N...</td>\n",
              "      <td>0</td>\n",
              "      <td>d005910e0e57b534</td>\n",
              "      <td>1</td>\n",
              "      <td>1</td>\n",
              "      <td>1</td>\n",
              "      <td>0</td>\n",
              "      <td>0</td>\n",
              "      <td>1</td>\n",
              "      <td>1</td>\n",
              "      <td>0</td>\n",
              "      <td>:MONGO like! No reason to pussy-foot around! N...</td>\n",
              "    </tr>\n",
              "    <tr>\n",
              "      <th>117106</th>\n",
              "      <td>1</td>\n",
              "      <td>1</td>\n",
              "      <td>1</td>\n",
              "      <td>1</td>\n",
              "      <td>1</td>\n",
              "      <td>0</td>\n",
              "      <td>0</td>\n",
              "      <td>SOMEBODY ANSWER ME ALREADY, ARE YOU ALL [MASK]...</td>\n",
              "      <td>0</td>\n",
              "      <td>d008cb06f27543f7</td>\n",
              "      <td>1</td>\n",
              "      <td>1</td>\n",
              "      <td>1</td>\n",
              "      <td>1</td>\n",
              "      <td>0</td>\n",
              "      <td>1</td>\n",
              "      <td>1</td>\n",
              "      <td>1</td>\n",
              "      <td>SOMEBODY ANSWER ME ALREADY, ARE YOU ALL FUCKIN...</td>\n",
              "    </tr>\n",
              "  </tbody>\n",
              "</table>\n",
              "</div>\n",
              "      <button class=\"colab-df-convert\" onclick=\"convertToInteractive('df-0537497d-dbc6-44ae-8577-8b88ed251a8c')\"\n",
              "              title=\"Convert this dataframe to an interactive table.\"\n",
              "              style=\"display:none;\">\n",
              "        \n",
              "  <svg xmlns=\"http://www.w3.org/2000/svg\" height=\"24px\"viewBox=\"0 0 24 24\"\n",
              "       width=\"24px\">\n",
              "    <path d=\"M0 0h24v24H0V0z\" fill=\"none\"/>\n",
              "    <path d=\"M18.56 5.44l.94 2.06.94-2.06 2.06-.94-2.06-.94-.94-2.06-.94 2.06-2.06.94zm-11 1L8.5 8.5l.94-2.06 2.06-.94-2.06-.94L8.5 2.5l-.94 2.06-2.06.94zm10 10l.94 2.06.94-2.06 2.06-.94-2.06-.94-.94-2.06-.94 2.06-2.06.94z\"/><path d=\"M17.41 7.96l-1.37-1.37c-.4-.4-.92-.59-1.43-.59-.52 0-1.04.2-1.43.59L10.3 9.45l-7.72 7.72c-.78.78-.78 2.05 0 2.83L4 21.41c.39.39.9.59 1.41.59.51 0 1.02-.2 1.41-.59l7.78-7.78 2.81-2.81c.8-.78.8-2.07 0-2.86zM5.41 20L4 18.59l7.72-7.72 1.47 1.35L5.41 20z\"/>\n",
              "  </svg>\n",
              "      </button>\n",
              "      \n",
              "  <style>\n",
              "    .colab-df-container {\n",
              "      display:flex;\n",
              "      flex-wrap:wrap;\n",
              "      gap: 12px;\n",
              "    }\n",
              "\n",
              "    .colab-df-convert {\n",
              "      background-color: #E8F0FE;\n",
              "      border: none;\n",
              "      border-radius: 50%;\n",
              "      cursor: pointer;\n",
              "      display: none;\n",
              "      fill: #1967D2;\n",
              "      height: 32px;\n",
              "      padding: 0 0 0 0;\n",
              "      width: 32px;\n",
              "    }\n",
              "\n",
              "    .colab-df-convert:hover {\n",
              "      background-color: #E2EBFA;\n",
              "      box-shadow: 0px 1px 2px rgba(60, 64, 67, 0.3), 0px 1px 3px 1px rgba(60, 64, 67, 0.15);\n",
              "      fill: #174EA6;\n",
              "    }\n",
              "\n",
              "    [theme=dark] .colab-df-convert {\n",
              "      background-color: #3B4455;\n",
              "      fill: #D2E3FC;\n",
              "    }\n",
              "\n",
              "    [theme=dark] .colab-df-convert:hover {\n",
              "      background-color: #434B5C;\n",
              "      box-shadow: 0px 1px 3px 1px rgba(0, 0, 0, 0.15);\n",
              "      filter: drop-shadow(0px 1px 2px rgba(0, 0, 0, 0.3));\n",
              "      fill: #FFFFFF;\n",
              "    }\n",
              "  </style>\n",
              "\n",
              "      <script>\n",
              "        const buttonEl =\n",
              "          document.querySelector('#df-0537497d-dbc6-44ae-8577-8b88ed251a8c button.colab-df-convert');\n",
              "        buttonEl.style.display =\n",
              "          google.colab.kernel.accessAllowed ? 'block' : 'none';\n",
              "\n",
              "        async function convertToInteractive(key) {\n",
              "          const element = document.querySelector('#df-0537497d-dbc6-44ae-8577-8b88ed251a8c');\n",
              "          const dataTable =\n",
              "            await google.colab.kernel.invokeFunction('convertToInteractive',\n",
              "                                                     [key], {});\n",
              "          if (!dataTable) return;\n",
              "\n",
              "          const docLinkHtml = 'Like what you see? Visit the ' +\n",
              "            '<a target=\"_blank\" href=https://colab.research.google.com/notebooks/data_table.ipynb>data table notebook</a>'\n",
              "            + ' to learn more about interactive tables.';\n",
              "          element.innerHTML = '';\n",
              "          dataTable['output_type'] = 'display_data';\n",
              "          await google.colab.output.renderOutput(dataTable, element);\n",
              "          const docLink = document.createElement('div');\n",
              "          docLink.innerHTML = docLinkHtml;\n",
              "          element.appendChild(docLink);\n",
              "        }\n",
              "      </script>\n",
              "    </div>\n",
              "  </div>\n",
              "  "
            ]
          },
          "metadata": {},
          "execution_count": 12
        }
      ]
    },
    {
      "cell_type": "code",
      "source": [
        "failedSevereToxic = joinedDF[joinedDF['prediction_severe_toxic_x']==joinedDF['prediction_severe_toxic_y']][joinedDF['prediction_severe_toxic_y']==1]\n",
        "failedSevereToxic[['id','comment_text_x']].count()\n",
        "failedSevereToxic.comment_text_x.head()"
      ],
      "metadata": {
        "id": "dny80ysZ4k3h",
        "colab": {
          "base_uri": "https://localhost:8080/"
        },
        "outputId": "86fe13c9-2aac-474f-a20c-ffcf64cd4f2d"
      },
      "execution_count": 13,
      "outputs": [
        {
          "output_type": "stream",
          "name": "stderr",
          "text": [
            "/usr/local/lib/python3.7/dist-packages/ipykernel_launcher.py:1: UserWarning: Boolean Series key will be reindexed to match DataFrame index.\n",
            "  \"\"\"Entry point for launching an IPython kernel.\n"
          ]
        },
        {
          "output_type": "execute_result",
          "data": {
            "text/plain": [
              "117393    == HAPPY BLACK DAY == \\n\\n Happy Rajyothsava -...\n",
              "117631    the united states is going to bomb the fuck ou...\n",
              "118004    ==You fuckface Communist dog. You are just lik...\n",
              "118160    == GAY GAY GAY == \\n\\n GAY FUCKING GAY FUCKING...\n",
              "118233    == [MASK] dodo == \\n\\n fuck you you cunt, i fu...\n",
              "Name: comment_text_x, dtype: object"
            ]
          },
          "metadata": {},
          "execution_count": 13
        }
      ]
    },
    {
      "cell_type": "code",
      "source": [
        "failedObscene = joinedDF[joinedDF['prediction_obscene_x']==joinedDF['prediction_obscene_y']][joinedDF['prediction_obscene_y']==1]\n",
        "failedObscene[['id','comment_text_x']].count()\n",
        "failedObscene.comment_text_x.head()"
      ],
      "metadata": {
        "id": "n2VXNfYr5Jdd",
        "colab": {
          "base_uri": "https://localhost:8080/"
        },
        "outputId": "e104aec0-c4ce-4962-fc98-36c0bc8e3269"
      },
      "execution_count": 14,
      "outputs": [
        {
          "output_type": "stream",
          "name": "stderr",
          "text": [
            "/usr/local/lib/python3.7/dist-packages/ipykernel_launcher.py:1: UserWarning: Boolean Series key will be reindexed to match DataFrame index.\n",
            "  \"\"\"Entry point for launching an IPython kernel.\n"
          ]
        },
        {
          "output_type": "execute_result",
          "data": {
            "text/plain": [
              "11956    \"I'm new to South Park, but some \"\"expert\"\" mi...\n",
              "15592    \" \\n *OK, I should have called this \"\"You cunt...\n",
              "19122    \" \\n ::::Please note that Lordnecronus is comp...\n",
              "23445    \" \\n :I can't believe \"\"[MASK] doesn't happen ...\n",
              "25066    == total medal cunt? == \\n\\n does this deserve...\n",
              "Name: comment_text_x, dtype: object"
            ]
          },
          "metadata": {},
          "execution_count": 14
        }
      ]
    },
    {
      "cell_type": "code",
      "source": [
        "failedIdentityHate = joinedDF[joinedDF['prediction_identity_hate_x']==joinedDF['prediction_identity_hate_y']][joinedDF['prediction_identity_hate_y']==1]\n",
        "failedIdentityHate[['id','comment_text_x']].count()\n",
        "failedIdentityHate.comment_text_x.head()"
      ],
      "metadata": {
        "id": "EtYI8D4d5Lka",
        "colab": {
          "base_uri": "https://localhost:8080/"
        },
        "outputId": "869357d6-78fc-45e4-f143-40041de8a81c"
      },
      "execution_count": 15,
      "outputs": [
        {
          "output_type": "stream",
          "name": "stderr",
          "text": [
            "/usr/local/lib/python3.7/dist-packages/ipykernel_launcher.py:1: UserWarning: Boolean Series key will be reindexed to match DataFrame index.\n",
            "  \"\"\"Entry point for launching an IPython kernel.\n"
          ]
        },
        {
          "output_type": "execute_result",
          "data": {
            "text/plain": [
              "117072    [MASK] MUHAMMAD, AND [MASK] MUSLIMS! \\n DIRTY ...\n",
              "117129    Wow, what a total whitewash of this case! It's...\n",
              "117259                                  PEBBLE YOU FAGGOT p\n",
              "117297    You antisemitic [MASK]! You pigs! Goldsmith IS...\n",
              "117347              suc dic faget ass nigas eat that [MASK]\n",
              "Name: comment_text_x, dtype: object"
            ]
          },
          "metadata": {},
          "execution_count": 15
        }
      ]
    },
    {
      "cell_type": "code",
      "source": [
        "failedinsult = joinedDF[joinedDF['prediction_insult_x']==joinedDF['prediction_insult_y']][joinedDF['prediction_insult_y']==1]\n",
        "failedinsult[['id','comment_text_x']].count()\n",
        "failedinsult.comment_text_x.head()"
      ],
      "metadata": {
        "id": "sBogXp-V5L8I",
        "colab": {
          "base_uri": "https://localhost:8080/"
        },
        "outputId": "3d3224f4-dc38-48dc-d798-b48537b89e73"
      },
      "execution_count": 16,
      "outputs": [
        {
          "output_type": "stream",
          "name": "stderr",
          "text": [
            "/usr/local/lib/python3.7/dist-packages/ipykernel_launcher.py:1: UserWarning: Boolean Series key will be reindexed to match DataFrame index.\n",
            "  \"\"\"Entry point for launching an IPython kernel.\n"
          ]
        },
        {
          "output_type": "execute_result",
          "data": {
            "text/plain": [
              "117072    [MASK] MUHAMMAD, AND [MASK] MUSLIMS! \\n DIRTY ...\n",
              "117100    :MONGO like! No reason to pussy-foot around! N...\n",
              "117106    SOMEBODY ANSWER ME ALREADY, ARE YOU ALL [MASK]...\n",
              "117112    WHOEVER vandalized this page is a bitch ass bu...\n",
              "117143    i think that this politically correct shit is ...\n",
              "Name: comment_text_x, dtype: object"
            ]
          },
          "metadata": {},
          "execution_count": 16
        }
      ]
    },
    {
      "cell_type": "code",
      "source": [
        "noTextJoinedDF = joinedDF.drop(['comment_text_y','comment_text_x','id'],axis = 1)"
      ],
      "metadata": {
        "id": "VHdTN9GApc50"
      },
      "execution_count": 17,
      "outputs": []
    },
    {
      "cell_type": "code",
      "source": [
        "noTextJoinedDF.head()"
      ],
      "metadata": {
        "colab": {
          "base_uri": "https://localhost:8080/",
          "height": 287
        },
        "id": "rQ80zKQDmdvr",
        "outputId": "7b2aa91e-e4cd-4dec-8279-cbc2a851e176"
      },
      "execution_count": 18,
      "outputs": [
        {
          "output_type": "execute_result",
          "data": {
            "text/plain": [
              "   Unnamed: 0_x  Unnamed: 0.1_x  prediction_insult_x  prediction_toxic_x  \\\n",
              "0             0               1                    0                   0   \n",
              "1             1               1                    0                   0   \n",
              "2             1               1                    0                   0   \n",
              "3             1               1                    0                   0   \n",
              "4             1               1                    0                   0   \n",
              "\n",
              "   prediction_obscene_x  prediction_severe_toxic_x  prediction_threat_x  \\\n",
              "0                     0                          0                    0   \n",
              "1                     0                          0                    0   \n",
              "2                     0                          0                    0   \n",
              "3                     0                          0                    0   \n",
              "4                     0                          0                    0   \n",
              "\n",
              "   prediction_identity_hate_x  Unnamed: 0_y  Unnamed: 0.1_y  \\\n",
              "0                           0             1               1   \n",
              "1                           0             1               1   \n",
              "2                           0             1               1   \n",
              "3                           0             1               1   \n",
              "4                           0             1               1   \n",
              "\n",
              "   prediction_toxic_y  prediction_severe_toxic_y  prediction_threat_y  \\\n",
              "0                   0                          0                    0   \n",
              "1                   0                          0                    0   \n",
              "2                   0                          0                    0   \n",
              "3                   0                          0                    0   \n",
              "4                   0                          0                    0   \n",
              "\n",
              "   prediction_obscene_y  prediction_insult_y  prediction_identity_hate_y  \n",
              "0                     0                    0                           0  \n",
              "1                     0                    0                           0  \n",
              "2                     0                    0                           0  \n",
              "3                     0                    0                           0  \n",
              "4                     0                    0                           0  "
            ],
            "text/html": [
              "\n",
              "  <div id=\"df-99f9e0f9-c0bf-4d8d-aca1-3c4daa7a9907\">\n",
              "    <div class=\"colab-df-container\">\n",
              "      <div>\n",
              "<style scoped>\n",
              "    .dataframe tbody tr th:only-of-type {\n",
              "        vertical-align: middle;\n",
              "    }\n",
              "\n",
              "    .dataframe tbody tr th {\n",
              "        vertical-align: top;\n",
              "    }\n",
              "\n",
              "    .dataframe thead th {\n",
              "        text-align: right;\n",
              "    }\n",
              "</style>\n",
              "<table border=\"1\" class=\"dataframe\">\n",
              "  <thead>\n",
              "    <tr style=\"text-align: right;\">\n",
              "      <th></th>\n",
              "      <th>Unnamed: 0_x</th>\n",
              "      <th>Unnamed: 0.1_x</th>\n",
              "      <th>prediction_insult_x</th>\n",
              "      <th>prediction_toxic_x</th>\n",
              "      <th>prediction_obscene_x</th>\n",
              "      <th>prediction_severe_toxic_x</th>\n",
              "      <th>prediction_threat_x</th>\n",
              "      <th>prediction_identity_hate_x</th>\n",
              "      <th>Unnamed: 0_y</th>\n",
              "      <th>Unnamed: 0.1_y</th>\n",
              "      <th>prediction_toxic_y</th>\n",
              "      <th>prediction_severe_toxic_y</th>\n",
              "      <th>prediction_threat_y</th>\n",
              "      <th>prediction_obscene_y</th>\n",
              "      <th>prediction_insult_y</th>\n",
              "      <th>prediction_identity_hate_y</th>\n",
              "    </tr>\n",
              "  </thead>\n",
              "  <tbody>\n",
              "    <tr>\n",
              "      <th>0</th>\n",
              "      <td>0</td>\n",
              "      <td>1</td>\n",
              "      <td>0</td>\n",
              "      <td>0</td>\n",
              "      <td>0</td>\n",
              "      <td>0</td>\n",
              "      <td>0</td>\n",
              "      <td>0</td>\n",
              "      <td>1</td>\n",
              "      <td>1</td>\n",
              "      <td>0</td>\n",
              "      <td>0</td>\n",
              "      <td>0</td>\n",
              "      <td>0</td>\n",
              "      <td>0</td>\n",
              "      <td>0</td>\n",
              "    </tr>\n",
              "    <tr>\n",
              "      <th>1</th>\n",
              "      <td>1</td>\n",
              "      <td>1</td>\n",
              "      <td>0</td>\n",
              "      <td>0</td>\n",
              "      <td>0</td>\n",
              "      <td>0</td>\n",
              "      <td>0</td>\n",
              "      <td>0</td>\n",
              "      <td>1</td>\n",
              "      <td>1</td>\n",
              "      <td>0</td>\n",
              "      <td>0</td>\n",
              "      <td>0</td>\n",
              "      <td>0</td>\n",
              "      <td>0</td>\n",
              "      <td>0</td>\n",
              "    </tr>\n",
              "    <tr>\n",
              "      <th>2</th>\n",
              "      <td>1</td>\n",
              "      <td>1</td>\n",
              "      <td>0</td>\n",
              "      <td>0</td>\n",
              "      <td>0</td>\n",
              "      <td>0</td>\n",
              "      <td>0</td>\n",
              "      <td>0</td>\n",
              "      <td>1</td>\n",
              "      <td>1</td>\n",
              "      <td>0</td>\n",
              "      <td>0</td>\n",
              "      <td>0</td>\n",
              "      <td>0</td>\n",
              "      <td>0</td>\n",
              "      <td>0</td>\n",
              "    </tr>\n",
              "    <tr>\n",
              "      <th>3</th>\n",
              "      <td>1</td>\n",
              "      <td>1</td>\n",
              "      <td>0</td>\n",
              "      <td>0</td>\n",
              "      <td>0</td>\n",
              "      <td>0</td>\n",
              "      <td>0</td>\n",
              "      <td>0</td>\n",
              "      <td>1</td>\n",
              "      <td>1</td>\n",
              "      <td>0</td>\n",
              "      <td>0</td>\n",
              "      <td>0</td>\n",
              "      <td>0</td>\n",
              "      <td>0</td>\n",
              "      <td>0</td>\n",
              "    </tr>\n",
              "    <tr>\n",
              "      <th>4</th>\n",
              "      <td>1</td>\n",
              "      <td>1</td>\n",
              "      <td>0</td>\n",
              "      <td>0</td>\n",
              "      <td>0</td>\n",
              "      <td>0</td>\n",
              "      <td>0</td>\n",
              "      <td>0</td>\n",
              "      <td>1</td>\n",
              "      <td>1</td>\n",
              "      <td>0</td>\n",
              "      <td>0</td>\n",
              "      <td>0</td>\n",
              "      <td>0</td>\n",
              "      <td>0</td>\n",
              "      <td>0</td>\n",
              "    </tr>\n",
              "  </tbody>\n",
              "</table>\n",
              "</div>\n",
              "      <button class=\"colab-df-convert\" onclick=\"convertToInteractive('df-99f9e0f9-c0bf-4d8d-aca1-3c4daa7a9907')\"\n",
              "              title=\"Convert this dataframe to an interactive table.\"\n",
              "              style=\"display:none;\">\n",
              "        \n",
              "  <svg xmlns=\"http://www.w3.org/2000/svg\" height=\"24px\"viewBox=\"0 0 24 24\"\n",
              "       width=\"24px\">\n",
              "    <path d=\"M0 0h24v24H0V0z\" fill=\"none\"/>\n",
              "    <path d=\"M18.56 5.44l.94 2.06.94-2.06 2.06-.94-2.06-.94-.94-2.06-.94 2.06-2.06.94zm-11 1L8.5 8.5l.94-2.06 2.06-.94-2.06-.94L8.5 2.5l-.94 2.06-2.06.94zm10 10l.94 2.06.94-2.06 2.06-.94-2.06-.94-.94-2.06-.94 2.06-2.06.94z\"/><path d=\"M17.41 7.96l-1.37-1.37c-.4-.4-.92-.59-1.43-.59-.52 0-1.04.2-1.43.59L10.3 9.45l-7.72 7.72c-.78.78-.78 2.05 0 2.83L4 21.41c.39.39.9.59 1.41.59.51 0 1.02-.2 1.41-.59l7.78-7.78 2.81-2.81c.8-.78.8-2.07 0-2.86zM5.41 20L4 18.59l7.72-7.72 1.47 1.35L5.41 20z\"/>\n",
              "  </svg>\n",
              "      </button>\n",
              "      \n",
              "  <style>\n",
              "    .colab-df-container {\n",
              "      display:flex;\n",
              "      flex-wrap:wrap;\n",
              "      gap: 12px;\n",
              "    }\n",
              "\n",
              "    .colab-df-convert {\n",
              "      background-color: #E8F0FE;\n",
              "      border: none;\n",
              "      border-radius: 50%;\n",
              "      cursor: pointer;\n",
              "      display: none;\n",
              "      fill: #1967D2;\n",
              "      height: 32px;\n",
              "      padding: 0 0 0 0;\n",
              "      width: 32px;\n",
              "    }\n",
              "\n",
              "    .colab-df-convert:hover {\n",
              "      background-color: #E2EBFA;\n",
              "      box-shadow: 0px 1px 2px rgba(60, 64, 67, 0.3), 0px 1px 3px 1px rgba(60, 64, 67, 0.15);\n",
              "      fill: #174EA6;\n",
              "    }\n",
              "\n",
              "    [theme=dark] .colab-df-convert {\n",
              "      background-color: #3B4455;\n",
              "      fill: #D2E3FC;\n",
              "    }\n",
              "\n",
              "    [theme=dark] .colab-df-convert:hover {\n",
              "      background-color: #434B5C;\n",
              "      box-shadow: 0px 1px 3px 1px rgba(0, 0, 0, 0.15);\n",
              "      filter: drop-shadow(0px 1px 2px rgba(0, 0, 0, 0.3));\n",
              "      fill: #FFFFFF;\n",
              "    }\n",
              "  </style>\n",
              "\n",
              "      <script>\n",
              "        const buttonEl =\n",
              "          document.querySelector('#df-99f9e0f9-c0bf-4d8d-aca1-3c4daa7a9907 button.colab-df-convert');\n",
              "        buttonEl.style.display =\n",
              "          google.colab.kernel.accessAllowed ? 'block' : 'none';\n",
              "\n",
              "        async function convertToInteractive(key) {\n",
              "          const element = document.querySelector('#df-99f9e0f9-c0bf-4d8d-aca1-3c4daa7a9907');\n",
              "          const dataTable =\n",
              "            await google.colab.kernel.invokeFunction('convertToInteractive',\n",
              "                                                     [key], {});\n",
              "          if (!dataTable) return;\n",
              "\n",
              "          const docLinkHtml = 'Like what you see? Visit the ' +\n",
              "            '<a target=\"_blank\" href=https://colab.research.google.com/notebooks/data_table.ipynb>data table notebook</a>'\n",
              "            + ' to learn more about interactive tables.';\n",
              "          element.innerHTML = '';\n",
              "          dataTable['output_type'] = 'display_data';\n",
              "          await google.colab.output.renderOutput(dataTable, element);\n",
              "          const docLink = document.createElement('div');\n",
              "          docLink.innerHTML = docLinkHtml;\n",
              "          element.appendChild(docLink);\n",
              "        }\n",
              "      </script>\n",
              "    </div>\n",
              "  </div>\n",
              "  "
            ]
          },
          "metadata": {},
          "execution_count": 18
        }
      ]
    },
    {
      "cell_type": "code",
      "source": [
        "noTextJoinedDF[['prediction_toxic_x','prediction_toxic_y']][noTextJoinedDF['prediction_toxic_y']==1][noTextJoinedDF['prediction_toxic_y']!=noTextJoinedDF['prediction_toxic_x']].count()"
      ],
      "metadata": {
        "colab": {
          "base_uri": "https://localhost:8080/"
        },
        "id": "f-668dO9-6qh",
        "outputId": "cce03564-559b-4f3e-90f0-a0286cd24bd3"
      },
      "execution_count": 19,
      "outputs": [
        {
          "output_type": "stream",
          "name": "stderr",
          "text": [
            "/usr/local/lib/python3.7/dist-packages/ipykernel_launcher.py:1: UserWarning: Boolean Series key will be reindexed to match DataFrame index.\n",
            "  \"\"\"Entry point for launching an IPython kernel.\n"
          ]
        },
        {
          "output_type": "execute_result",
          "data": {
            "text/plain": [
              "prediction_toxic_x    19931\n",
              "prediction_toxic_y    19931\n",
              "dtype: int64"
            ]
          },
          "metadata": {},
          "execution_count": 19
        }
      ]
    },
    {
      "cell_type": "code",
      "source": [
        "noTextJoinedDF[['prediction_toxic_x','prediction_toxic_y']][noTextJoinedDF['prediction_toxic_y']==1].count()"
      ],
      "metadata": {
        "colab": {
          "base_uri": "https://localhost:8080/"
        },
        "id": "KOBbdueyA6la",
        "outputId": "a6a915e0-d536-47b8-d837-27d9e82c898c"
      },
      "execution_count": 20,
      "outputs": [
        {
          "output_type": "execute_result",
          "data": {
            "text/plain": [
              "prediction_toxic_x    22654\n",
              "prediction_toxic_y    22654\n",
              "dtype: int64"
            ]
          },
          "metadata": {},
          "execution_count": 20
        }
      ]
    },
    {
      "cell_type": "code",
      "source": [
        "scores = noTextJoinedDF.sum(axis = 0, skipna = True)"
      ],
      "metadata": {
        "id": "8EafgKyzqR3i"
      },
      "execution_count": 21,
      "outputs": []
    },
    {
      "cell_type": "code",
      "source": [
        "scores"
      ],
      "metadata": {
        "colab": {
          "base_uri": "https://localhost:8080/"
        },
        "id": "XLY7GNKxqmiX",
        "outputId": "fd701f38-1513-4831-c189-d0bf6fc855f3"
      },
      "execution_count": 22,
      "outputs": [
        {
          "output_type": "execute_result",
          "data": {
            "text/plain": [
              "Unnamed: 0_x                  141990\n",
              "Unnamed: 0.1_x                141991\n",
              "prediction_insult_x             1327\n",
              "prediction_toxic_x              2727\n",
              "prediction_obscene_x            1678\n",
              "prediction_severe_toxic_x        129\n",
              "prediction_threat_x              157\n",
              "prediction_identity_hate_x       300\n",
              "Unnamed: 0_y                  141991\n",
              "Unnamed: 0.1_y                141991\n",
              "prediction_toxic_y             22654\n",
              "prediction_severe_toxic_y        462\n",
              "prediction_threat_y              340\n",
              "prediction_obscene_y           13648\n",
              "prediction_insult_y             8508\n",
              "prediction_identity_hate_y      1397\n",
              "dtype: int64"
            ]
          },
          "metadata": {},
          "execution_count": 22
        }
      ]
    },
    {
      "cell_type": "code",
      "source": [
        "scoreDF = pd.DataFrame(columns = ['type','pre-processing','post-processing'])\n",
        "scoreDF = scoreDF.append({'type':'threat','pre-processing':scores.prediction_threat_y,'post-processing':scores.prediction_threat_x},ignore_index=True)\n",
        "scoreDF = scoreDF.append({'type':'identity_hate','pre-processing':scores.prediction_identity_hate_y,'post-processing':scores.prediction_identity_hate_x},ignore_index=True)\n",
        "scoreDF = scoreDF.append({'type':'toxic','pre-processing':scores.prediction_toxic_y,'post-processing':scores.prediction_toxic_x},ignore_index=True)\n",
        "scoreDF = scoreDF.append({'type':'severe_toxic','pre-processing':scores.prediction_severe_toxic_y,'post-processing':scores.prediction_severe_toxic_x},ignore_index=True)\n",
        "scoreDF = scoreDF.append({'type':'obscene','pre-processing':scores.prediction_obscene_y,'post-processing':scores.prediction_obscene_x},ignore_index=True)\n",
        "scoreDF = scoreDF.append({'type':'insult','pre-processing':scores.prediction_insult_y,'post-processing':scores.prediction_insult_x},ignore_index=True)"
      ],
      "metadata": {
        "id": "lADyY9iDsuph"
      },
      "execution_count": 23,
      "outputs": []
    },
    {
      "cell_type": "code",
      "source": [
        "scoreDF['detox_score'] = (scoreDF['pre-processing'] - scoreDF['post-processing'])/scoreDF['pre-processing']"
      ],
      "metadata": {
        "id": "ZPsPuAjlvg-9"
      },
      "execution_count": 24,
      "outputs": []
    },
    {
      "cell_type": "code",
      "source": [
        "scoreDF.style.set_caption(\"Toxic Sentence Count\")"
      ],
      "metadata": {
        "colab": {
          "base_uri": "https://localhost:8080/",
          "height": 255
        },
        "id": "YoWR8lX-vPYc",
        "outputId": "4437ebce-cebc-405f-c0ae-9d84c0cb3bad"
      },
      "execution_count": 25,
      "outputs": [
        {
          "output_type": "execute_result",
          "data": {
            "text/plain": [
              "<pandas.io.formats.style.Styler at 0x7f380442ef10>"
            ],
            "text/html": [
              "<style type=\"text/css\">\n",
              "</style>\n",
              "<table id=\"T_e98cf_\" class=\"dataframe\">\n",
              "  <caption>Toxic Sentence Count</caption>\n",
              "  <thead>\n",
              "    <tr>\n",
              "      <th class=\"blank level0\" >&nbsp;</th>\n",
              "      <th class=\"col_heading level0 col0\" >type</th>\n",
              "      <th class=\"col_heading level0 col1\" >pre-processing</th>\n",
              "      <th class=\"col_heading level0 col2\" >post-processing</th>\n",
              "      <th class=\"col_heading level0 col3\" >detox_score</th>\n",
              "    </tr>\n",
              "  </thead>\n",
              "  <tbody>\n",
              "    <tr>\n",
              "      <th id=\"T_e98cf_level0_row0\" class=\"row_heading level0 row0\" >0</th>\n",
              "      <td id=\"T_e98cf_row0_col0\" class=\"data row0 col0\" >threat</td>\n",
              "      <td id=\"T_e98cf_row0_col1\" class=\"data row0 col1\" >340</td>\n",
              "      <td id=\"T_e98cf_row0_col2\" class=\"data row0 col2\" >157</td>\n",
              "      <td id=\"T_e98cf_row0_col3\" class=\"data row0 col3\" >0.538235</td>\n",
              "    </tr>\n",
              "    <tr>\n",
              "      <th id=\"T_e98cf_level0_row1\" class=\"row_heading level0 row1\" >1</th>\n",
              "      <td id=\"T_e98cf_row1_col0\" class=\"data row1 col0\" >identity_hate</td>\n",
              "      <td id=\"T_e98cf_row1_col1\" class=\"data row1 col1\" >1397</td>\n",
              "      <td id=\"T_e98cf_row1_col2\" class=\"data row1 col2\" >300</td>\n",
              "      <td id=\"T_e98cf_row1_col3\" class=\"data row1 col3\" >0.785254</td>\n",
              "    </tr>\n",
              "    <tr>\n",
              "      <th id=\"T_e98cf_level0_row2\" class=\"row_heading level0 row2\" >2</th>\n",
              "      <td id=\"T_e98cf_row2_col0\" class=\"data row2 col0\" >toxic</td>\n",
              "      <td id=\"T_e98cf_row2_col1\" class=\"data row2 col1\" >22654</td>\n",
              "      <td id=\"T_e98cf_row2_col2\" class=\"data row2 col2\" >2727</td>\n",
              "      <td id=\"T_e98cf_row2_col3\" class=\"data row2 col3\" >0.879624</td>\n",
              "    </tr>\n",
              "    <tr>\n",
              "      <th id=\"T_e98cf_level0_row3\" class=\"row_heading level0 row3\" >3</th>\n",
              "      <td id=\"T_e98cf_row3_col0\" class=\"data row3 col0\" >severe_toxic</td>\n",
              "      <td id=\"T_e98cf_row3_col1\" class=\"data row3 col1\" >462</td>\n",
              "      <td id=\"T_e98cf_row3_col2\" class=\"data row3 col2\" >129</td>\n",
              "      <td id=\"T_e98cf_row3_col3\" class=\"data row3 col3\" >0.720779</td>\n",
              "    </tr>\n",
              "    <tr>\n",
              "      <th id=\"T_e98cf_level0_row4\" class=\"row_heading level0 row4\" >4</th>\n",
              "      <td id=\"T_e98cf_row4_col0\" class=\"data row4 col0\" >obscene</td>\n",
              "      <td id=\"T_e98cf_row4_col1\" class=\"data row4 col1\" >13648</td>\n",
              "      <td id=\"T_e98cf_row4_col2\" class=\"data row4 col2\" >1678</td>\n",
              "      <td id=\"T_e98cf_row4_col3\" class=\"data row4 col3\" >0.877052</td>\n",
              "    </tr>\n",
              "    <tr>\n",
              "      <th id=\"T_e98cf_level0_row5\" class=\"row_heading level0 row5\" >5</th>\n",
              "      <td id=\"T_e98cf_row5_col0\" class=\"data row5 col0\" >insult</td>\n",
              "      <td id=\"T_e98cf_row5_col1\" class=\"data row5 col1\" >8508</td>\n",
              "      <td id=\"T_e98cf_row5_col2\" class=\"data row5 col2\" >1327</td>\n",
              "      <td id=\"T_e98cf_row5_col3\" class=\"data row5 col3\" >0.844029</td>\n",
              "    </tr>\n",
              "  </tbody>\n",
              "</table>\n"
            ]
          },
          "metadata": {},
          "execution_count": 25
        }
      ]
    }
  ]
}